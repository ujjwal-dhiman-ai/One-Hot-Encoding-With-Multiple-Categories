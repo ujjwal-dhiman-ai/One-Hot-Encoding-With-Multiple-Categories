{
 "metadata": {
  "language_info": {
   "codemirror_mode": {
    "name": "ipython",
    "version": 3
   },
   "file_extension": ".py",
   "mimetype": "text/x-python",
   "name": "python",
   "nbconvert_exporter": "python",
   "pygments_lexer": "ipython3",
   "version": "3.9.0"
  },
  "orig_nbformat": 2,
  "kernelspec": {
   "name": "python390jvsc74a57bd008e808cbed5dc28e5b39aca4bbe96f3e2aece9ea2c6ea6db1a9c0c12b129e8cf",
   "display_name": "Python 3.9.0 64-bit"
  },
  "metadata": {
   "interpreter": {
    "hash": "08e808cbed5dc28e5b39aca4bbe96f3e2aece9ea2c6ea6db1a9c0c12b129e8cf"
   }
  }
 },
 "nbformat": 4,
 "nbformat_minor": 2,
 "cells": [
  {
   "cell_type": "code",
   "execution_count": 32,
   "metadata": {},
   "outputs": [],
   "source": [
    "import numpy as np \n",
    "import pandas as pd"
   ]
  },
  {
   "cell_type": "code",
   "execution_count": 13,
   "metadata": {},
   "outputs": [
    {
     "output_type": "execute_result",
     "data": {
      "text/plain": [
       "  X1  X2 X3 X4 X5 X6\n",
       "0  v  at  a  d  u  j\n",
       "1  t  av  e  d  y  l\n",
       "2  w   n  c  d  x  j\n",
       "3  t   n  f  d  x  l\n",
       "4  v   n  f  d  h  d"
      ],
      "text/html": "<div>\n<style scoped>\n    .dataframe tbody tr th:only-of-type {\n        vertical-align: middle;\n    }\n\n    .dataframe tbody tr th {\n        vertical-align: top;\n    }\n\n    .dataframe thead th {\n        text-align: right;\n    }\n</style>\n<table border=\"1\" class=\"dataframe\">\n  <thead>\n    <tr style=\"text-align: right;\">\n      <th></th>\n      <th>X1</th>\n      <th>X2</th>\n      <th>X3</th>\n      <th>X4</th>\n      <th>X5</th>\n      <th>X6</th>\n    </tr>\n  </thead>\n  <tbody>\n    <tr>\n      <th>0</th>\n      <td>v</td>\n      <td>at</td>\n      <td>a</td>\n      <td>d</td>\n      <td>u</td>\n      <td>j</td>\n    </tr>\n    <tr>\n      <th>1</th>\n      <td>t</td>\n      <td>av</td>\n      <td>e</td>\n      <td>d</td>\n      <td>y</td>\n      <td>l</td>\n    </tr>\n    <tr>\n      <th>2</th>\n      <td>w</td>\n      <td>n</td>\n      <td>c</td>\n      <td>d</td>\n      <td>x</td>\n      <td>j</td>\n    </tr>\n    <tr>\n      <th>3</th>\n      <td>t</td>\n      <td>n</td>\n      <td>f</td>\n      <td>d</td>\n      <td>x</td>\n      <td>l</td>\n    </tr>\n    <tr>\n      <th>4</th>\n      <td>v</td>\n      <td>n</td>\n      <td>f</td>\n      <td>d</td>\n      <td>h</td>\n      <td>d</td>\n    </tr>\n  </tbody>\n</table>\n</div>"
     },
     "metadata": {},
     "execution_count": 13
    }
   ],
   "source": [
    "data = pd.read_csv(\"data/mercedesbenz.csv\",usecols=['X1','X2','X3','X4','X5','X6'])\n",
    "data.head()\n"
   ]
  },
  {
   "cell_type": "code",
   "execution_count": 17,
   "metadata": {},
   "outputs": [
    {
     "output_type": "stream",
     "name": "stdout",
     "text": [
      "X1  :  27 Labels/Categories\nX2  :  44 Labels/Categories\nX3  :  7 Labels/Categories\nX4  :  4 Labels/Categories\nX5  :  29 Labels/Categories\nX6  :  12 Labels/Categories\n"
     ]
    }
   ],
   "source": [
    "for col in data.columns:\n",
    "    print(col,\" : \",len(data[col].unique()),\"Labels/Categories\")\n",
    "# data.X1.unique()"
   ]
  },
  {
   "cell_type": "code",
   "execution_count": 24,
   "metadata": {},
   "outputs": [
    {
     "output_type": "execute_result",
     "data": {
      "text/plain": [
       "['as', 'ae', 'ai', 'm', 'ak', 'r', 'n', 's', 'f', 'e']"
      ]
     },
     "metadata": {},
     "execution_count": 24
    }
   ],
   "source": [
    "def top_x(col,nol):\n",
    "    top_x_labels = data[col].value_counts().head(nol).index\n",
    "    return top_x_labels.tolist()\n",
    "top_x('X2',10)"
   ]
  },
  {
   "cell_type": "code",
   "execution_count": 29,
   "metadata": {},
   "outputs": [],
   "source": [
    "def one_hot_top_x(df,nol):\n",
    "    for var in data.columns:\n",
    "        top_x_labels = top_x(var,nol)\n",
    "        for label in top_x_labels:\n",
    "            df[var+\"_\"+label] = np.where(data[var] == label,1,0)"
   ]
  },
  {
   "cell_type": "code",
   "execution_count": 30,
   "metadata": {},
   "outputs": [
    {
     "output_type": "execute_result",
     "data": {
      "text/plain": [
       "  X1  X2 X3 X4 X5 X6  X1_aa  X1_s  X1_b  X1_l  ...  X6_g  X6_j  X6_d  X6_i  \\\n",
       "0  v  at  a  d  u  j      0     0     0     0  ...     0     1     0     0   \n",
       "1  t  av  e  d  y  l      0     0     0     0  ...     0     0     0     0   \n",
       "2  w   n  c  d  x  j      0     0     0     0  ...     0     1     0     0   \n",
       "3  t   n  f  d  x  l      0     0     0     0  ...     0     0     0     0   \n",
       "4  v   n  f  d  h  d      0     0     0     0  ...     0     0     1     0   \n",
       "5  b   e  c  d  g  h      0     0     1     0  ...     0     0     0     0   \n",
       "6  r   e  f  d  f  h      0     0     0     0  ...     0     0     0     0   \n",
       "7  l  as  f  d  f  j      0     0     0     1  ...     0     1     0     0   \n",
       "8  s  as  e  d  f  i      0     1     0     0  ...     0     0     0     1   \n",
       "9  b  aq  c  d  f  a      0     0     1     0  ...     0     0     0     0   \n",
       "\n",
       "   X6_l  X6_a  X6_h  X6_k  X6_c  X6_b  \n",
       "0     0     0     0     0     0     0  \n",
       "1     1     0     0     0     0     0  \n",
       "2     0     0     0     0     0     0  \n",
       "3     1     0     0     0     0     0  \n",
       "4     0     0     0     0     0     0  \n",
       "5     0     0     1     0     0     0  \n",
       "6     0     0     1     0     0     0  \n",
       "7     0     0     0     0     0     0  \n",
       "8     0     0     0     0     0     0  \n",
       "9     0     1     0     0     0     0  \n",
       "\n",
       "[10 rows x 57 columns]"
      ],
      "text/html": "<div>\n<style scoped>\n    .dataframe tbody tr th:only-of-type {\n        vertical-align: middle;\n    }\n\n    .dataframe tbody tr th {\n        vertical-align: top;\n    }\n\n    .dataframe thead th {\n        text-align: right;\n    }\n</style>\n<table border=\"1\" class=\"dataframe\">\n  <thead>\n    <tr style=\"text-align: right;\">\n      <th></th>\n      <th>X1</th>\n      <th>X2</th>\n      <th>X3</th>\n      <th>X4</th>\n      <th>X5</th>\n      <th>X6</th>\n      <th>X1_aa</th>\n      <th>X1_s</th>\n      <th>X1_b</th>\n      <th>X1_l</th>\n      <th>...</th>\n      <th>X6_g</th>\n      <th>X6_j</th>\n      <th>X6_d</th>\n      <th>X6_i</th>\n      <th>X6_l</th>\n      <th>X6_a</th>\n      <th>X6_h</th>\n      <th>X6_k</th>\n      <th>X6_c</th>\n      <th>X6_b</th>\n    </tr>\n  </thead>\n  <tbody>\n    <tr>\n      <th>0</th>\n      <td>v</td>\n      <td>at</td>\n      <td>a</td>\n      <td>d</td>\n      <td>u</td>\n      <td>j</td>\n      <td>0</td>\n      <td>0</td>\n      <td>0</td>\n      <td>0</td>\n      <td>...</td>\n      <td>0</td>\n      <td>1</td>\n      <td>0</td>\n      <td>0</td>\n      <td>0</td>\n      <td>0</td>\n      <td>0</td>\n      <td>0</td>\n      <td>0</td>\n      <td>0</td>\n    </tr>\n    <tr>\n      <th>1</th>\n      <td>t</td>\n      <td>av</td>\n      <td>e</td>\n      <td>d</td>\n      <td>y</td>\n      <td>l</td>\n      <td>0</td>\n      <td>0</td>\n      <td>0</td>\n      <td>0</td>\n      <td>...</td>\n      <td>0</td>\n      <td>0</td>\n      <td>0</td>\n      <td>0</td>\n      <td>1</td>\n      <td>0</td>\n      <td>0</td>\n      <td>0</td>\n      <td>0</td>\n      <td>0</td>\n    </tr>\n    <tr>\n      <th>2</th>\n      <td>w</td>\n      <td>n</td>\n      <td>c</td>\n      <td>d</td>\n      <td>x</td>\n      <td>j</td>\n      <td>0</td>\n      <td>0</td>\n      <td>0</td>\n      <td>0</td>\n      <td>...</td>\n      <td>0</td>\n      <td>1</td>\n      <td>0</td>\n      <td>0</td>\n      <td>0</td>\n      <td>0</td>\n      <td>0</td>\n      <td>0</td>\n      <td>0</td>\n      <td>0</td>\n    </tr>\n    <tr>\n      <th>3</th>\n      <td>t</td>\n      <td>n</td>\n      <td>f</td>\n      <td>d</td>\n      <td>x</td>\n      <td>l</td>\n      <td>0</td>\n      <td>0</td>\n      <td>0</td>\n      <td>0</td>\n      <td>...</td>\n      <td>0</td>\n      <td>0</td>\n      <td>0</td>\n      <td>0</td>\n      <td>1</td>\n      <td>0</td>\n      <td>0</td>\n      <td>0</td>\n      <td>0</td>\n      <td>0</td>\n    </tr>\n    <tr>\n      <th>4</th>\n      <td>v</td>\n      <td>n</td>\n      <td>f</td>\n      <td>d</td>\n      <td>h</td>\n      <td>d</td>\n      <td>0</td>\n      <td>0</td>\n      <td>0</td>\n      <td>0</td>\n      <td>...</td>\n      <td>0</td>\n      <td>0</td>\n      <td>1</td>\n      <td>0</td>\n      <td>0</td>\n      <td>0</td>\n      <td>0</td>\n      <td>0</td>\n      <td>0</td>\n      <td>0</td>\n    </tr>\n    <tr>\n      <th>5</th>\n      <td>b</td>\n      <td>e</td>\n      <td>c</td>\n      <td>d</td>\n      <td>g</td>\n      <td>h</td>\n      <td>0</td>\n      <td>0</td>\n      <td>1</td>\n      <td>0</td>\n      <td>...</td>\n      <td>0</td>\n      <td>0</td>\n      <td>0</td>\n      <td>0</td>\n      <td>0</td>\n      <td>0</td>\n      <td>1</td>\n      <td>0</td>\n      <td>0</td>\n      <td>0</td>\n    </tr>\n    <tr>\n      <th>6</th>\n      <td>r</td>\n      <td>e</td>\n      <td>f</td>\n      <td>d</td>\n      <td>f</td>\n      <td>h</td>\n      <td>0</td>\n      <td>0</td>\n      <td>0</td>\n      <td>0</td>\n      <td>...</td>\n      <td>0</td>\n      <td>0</td>\n      <td>0</td>\n      <td>0</td>\n      <td>0</td>\n      <td>0</td>\n      <td>1</td>\n      <td>0</td>\n      <td>0</td>\n      <td>0</td>\n    </tr>\n    <tr>\n      <th>7</th>\n      <td>l</td>\n      <td>as</td>\n      <td>f</td>\n      <td>d</td>\n      <td>f</td>\n      <td>j</td>\n      <td>0</td>\n      <td>0</td>\n      <td>0</td>\n      <td>1</td>\n      <td>...</td>\n      <td>0</td>\n      <td>1</td>\n      <td>0</td>\n      <td>0</td>\n      <td>0</td>\n      <td>0</td>\n      <td>0</td>\n      <td>0</td>\n      <td>0</td>\n      <td>0</td>\n    </tr>\n    <tr>\n      <th>8</th>\n      <td>s</td>\n      <td>as</td>\n      <td>e</td>\n      <td>d</td>\n      <td>f</td>\n      <td>i</td>\n      <td>0</td>\n      <td>1</td>\n      <td>0</td>\n      <td>0</td>\n      <td>...</td>\n      <td>0</td>\n      <td>0</td>\n      <td>0</td>\n      <td>1</td>\n      <td>0</td>\n      <td>0</td>\n      <td>0</td>\n      <td>0</td>\n      <td>0</td>\n      <td>0</td>\n    </tr>\n    <tr>\n      <th>9</th>\n      <td>b</td>\n      <td>aq</td>\n      <td>c</td>\n      <td>d</td>\n      <td>f</td>\n      <td>a</td>\n      <td>0</td>\n      <td>0</td>\n      <td>1</td>\n      <td>0</td>\n      <td>...</td>\n      <td>0</td>\n      <td>0</td>\n      <td>0</td>\n      <td>0</td>\n      <td>0</td>\n      <td>1</td>\n      <td>0</td>\n      <td>0</td>\n      <td>0</td>\n      <td>0</td>\n    </tr>\n  </tbody>\n</table>\n<p>10 rows × 57 columns</p>\n</div>"
     },
     "metadata": {},
     "execution_count": 30
    }
   ],
   "source": [
    "data = pd.read_csv(\"data/mercedesbenz.csv\",usecols=['X1','X2','X3','X4','X5','X6'])\n",
    "one_hot_top_x(data,10)\n",
    "data.head(10)"
   ]
  },
  {
   "cell_type": "code",
   "execution_count": 31,
   "metadata": {},
   "outputs": [
    {
     "output_type": "execute_result",
     "data": {
      "text/plain": [
       "      X1_aa  X1_s  X1_b  X1_l  X1_v  X1_r  X1_i  X1_a  X1_c  X1_o  ...  X6_g  \\\n",
       "0         0     0     0     0     1     0     0     0     0     0  ...     0   \n",
       "1         0     0     0     0     0     0     0     0     0     0  ...     0   \n",
       "2         0     0     0     0     0     0     0     0     0     0  ...     0   \n",
       "3         0     0     0     0     0     0     0     0     0     0  ...     0   \n",
       "4         0     0     0     0     1     0     0     0     0     0  ...     0   \n",
       "...     ...   ...   ...   ...   ...   ...   ...   ...   ...   ...  ...   ...   \n",
       "4204      0     1     0     0     0     0     0     0     0     0  ...     0   \n",
       "4205      0     0     0     0     0     0     0     0     0     1  ...     0   \n",
       "4206      0     0     0     0     1     0     0     0     0     0  ...     1   \n",
       "4207      0     0     0     0     0     1     0     0     0     0  ...     0   \n",
       "4208      0     0     0     0     0     1     0     0     0     0  ...     1   \n",
       "\n",
       "      X6_j  X6_d  X6_i  X6_l  X6_a  X6_h  X6_k  X6_c  X6_b  \n",
       "0        1     0     0     0     0     0     0     0     0  \n",
       "1        0     0     0     1     0     0     0     0     0  \n",
       "2        1     0     0     0     0     0     0     0     0  \n",
       "3        0     0     0     1     0     0     0     0     0  \n",
       "4        0     1     0     0     0     0     0     0     0  \n",
       "...    ...   ...   ...   ...   ...   ...   ...   ...   ...  \n",
       "4204     0     1     0     0     0     0     0     0     0  \n",
       "4205     0     0     0     0     0     1     0     0     0  \n",
       "4206     0     0     0     0     0     0     0     0     0  \n",
       "4207     0     0     0     1     0     0     0     0     0  \n",
       "4208     0     0     0     0     0     0     0     0     0  \n",
       "\n",
       "[4209 rows x 51 columns]"
      ],
      "text/html": "<div>\n<style scoped>\n    .dataframe tbody tr th:only-of-type {\n        vertical-align: middle;\n    }\n\n    .dataframe tbody tr th {\n        vertical-align: top;\n    }\n\n    .dataframe thead th {\n        text-align: right;\n    }\n</style>\n<table border=\"1\" class=\"dataframe\">\n  <thead>\n    <tr style=\"text-align: right;\">\n      <th></th>\n      <th>X1_aa</th>\n      <th>X1_s</th>\n      <th>X1_b</th>\n      <th>X1_l</th>\n      <th>X1_v</th>\n      <th>X1_r</th>\n      <th>X1_i</th>\n      <th>X1_a</th>\n      <th>X1_c</th>\n      <th>X1_o</th>\n      <th>...</th>\n      <th>X6_g</th>\n      <th>X6_j</th>\n      <th>X6_d</th>\n      <th>X6_i</th>\n      <th>X6_l</th>\n      <th>X6_a</th>\n      <th>X6_h</th>\n      <th>X6_k</th>\n      <th>X6_c</th>\n      <th>X6_b</th>\n    </tr>\n  </thead>\n  <tbody>\n    <tr>\n      <th>0</th>\n      <td>0</td>\n      <td>0</td>\n      <td>0</td>\n      <td>0</td>\n      <td>1</td>\n      <td>0</td>\n      <td>0</td>\n      <td>0</td>\n      <td>0</td>\n      <td>0</td>\n      <td>...</td>\n      <td>0</td>\n      <td>1</td>\n      <td>0</td>\n      <td>0</td>\n      <td>0</td>\n      <td>0</td>\n      <td>0</td>\n      <td>0</td>\n      <td>0</td>\n      <td>0</td>\n    </tr>\n    <tr>\n      <th>1</th>\n      <td>0</td>\n      <td>0</td>\n      <td>0</td>\n      <td>0</td>\n      <td>0</td>\n      <td>0</td>\n      <td>0</td>\n      <td>0</td>\n      <td>0</td>\n      <td>0</td>\n      <td>...</td>\n      <td>0</td>\n      <td>0</td>\n      <td>0</td>\n      <td>0</td>\n      <td>1</td>\n      <td>0</td>\n      <td>0</td>\n      <td>0</td>\n      <td>0</td>\n      <td>0</td>\n    </tr>\n    <tr>\n      <th>2</th>\n      <td>0</td>\n      <td>0</td>\n      <td>0</td>\n      <td>0</td>\n      <td>0</td>\n      <td>0</td>\n      <td>0</td>\n      <td>0</td>\n      <td>0</td>\n      <td>0</td>\n      <td>...</td>\n      <td>0</td>\n      <td>1</td>\n      <td>0</td>\n      <td>0</td>\n      <td>0</td>\n      <td>0</td>\n      <td>0</td>\n      <td>0</td>\n      <td>0</td>\n      <td>0</td>\n    </tr>\n    <tr>\n      <th>3</th>\n      <td>0</td>\n      <td>0</td>\n      <td>0</td>\n      <td>0</td>\n      <td>0</td>\n      <td>0</td>\n      <td>0</td>\n      <td>0</td>\n      <td>0</td>\n      <td>0</td>\n      <td>...</td>\n      <td>0</td>\n      <td>0</td>\n      <td>0</td>\n      <td>0</td>\n      <td>1</td>\n      <td>0</td>\n      <td>0</td>\n      <td>0</td>\n      <td>0</td>\n      <td>0</td>\n    </tr>\n    <tr>\n      <th>4</th>\n      <td>0</td>\n      <td>0</td>\n      <td>0</td>\n      <td>0</td>\n      <td>1</td>\n      <td>0</td>\n      <td>0</td>\n      <td>0</td>\n      <td>0</td>\n      <td>0</td>\n      <td>...</td>\n      <td>0</td>\n      <td>0</td>\n      <td>1</td>\n      <td>0</td>\n      <td>0</td>\n      <td>0</td>\n      <td>0</td>\n      <td>0</td>\n      <td>0</td>\n      <td>0</td>\n    </tr>\n    <tr>\n      <th>...</th>\n      <td>...</td>\n      <td>...</td>\n      <td>...</td>\n      <td>...</td>\n      <td>...</td>\n      <td>...</td>\n      <td>...</td>\n      <td>...</td>\n      <td>...</td>\n      <td>...</td>\n      <td>...</td>\n      <td>...</td>\n      <td>...</td>\n      <td>...</td>\n      <td>...</td>\n      <td>...</td>\n      <td>...</td>\n      <td>...</td>\n      <td>...</td>\n      <td>...</td>\n      <td>...</td>\n    </tr>\n    <tr>\n      <th>4204</th>\n      <td>0</td>\n      <td>1</td>\n      <td>0</td>\n      <td>0</td>\n      <td>0</td>\n      <td>0</td>\n      <td>0</td>\n      <td>0</td>\n      <td>0</td>\n      <td>0</td>\n      <td>...</td>\n      <td>0</td>\n      <td>0</td>\n      <td>1</td>\n      <td>0</td>\n      <td>0</td>\n      <td>0</td>\n      <td>0</td>\n      <td>0</td>\n      <td>0</td>\n      <td>0</td>\n    </tr>\n    <tr>\n      <th>4205</th>\n      <td>0</td>\n      <td>0</td>\n      <td>0</td>\n      <td>0</td>\n      <td>0</td>\n      <td>0</td>\n      <td>0</td>\n      <td>0</td>\n      <td>0</td>\n      <td>1</td>\n      <td>...</td>\n      <td>0</td>\n      <td>0</td>\n      <td>0</td>\n      <td>0</td>\n      <td>0</td>\n      <td>0</td>\n      <td>1</td>\n      <td>0</td>\n      <td>0</td>\n      <td>0</td>\n    </tr>\n    <tr>\n      <th>4206</th>\n      <td>0</td>\n      <td>0</td>\n      <td>0</td>\n      <td>0</td>\n      <td>1</td>\n      <td>0</td>\n      <td>0</td>\n      <td>0</td>\n      <td>0</td>\n      <td>0</td>\n      <td>...</td>\n      <td>1</td>\n      <td>0</td>\n      <td>0</td>\n      <td>0</td>\n      <td>0</td>\n      <td>0</td>\n      <td>0</td>\n      <td>0</td>\n      <td>0</td>\n      <td>0</td>\n    </tr>\n    <tr>\n      <th>4207</th>\n      <td>0</td>\n      <td>0</td>\n      <td>0</td>\n      <td>0</td>\n      <td>0</td>\n      <td>1</td>\n      <td>0</td>\n      <td>0</td>\n      <td>0</td>\n      <td>0</td>\n      <td>...</td>\n      <td>0</td>\n      <td>0</td>\n      <td>0</td>\n      <td>0</td>\n      <td>1</td>\n      <td>0</td>\n      <td>0</td>\n      <td>0</td>\n      <td>0</td>\n      <td>0</td>\n    </tr>\n    <tr>\n      <th>4208</th>\n      <td>0</td>\n      <td>0</td>\n      <td>0</td>\n      <td>0</td>\n      <td>0</td>\n      <td>1</td>\n      <td>0</td>\n      <td>0</td>\n      <td>0</td>\n      <td>0</td>\n      <td>...</td>\n      <td>1</td>\n      <td>0</td>\n      <td>0</td>\n      <td>0</td>\n      <td>0</td>\n      <td>0</td>\n      <td>0</td>\n      <td>0</td>\n      <td>0</td>\n      <td>0</td>\n    </tr>\n  </tbody>\n</table>\n<p>4209 rows × 51 columns</p>\n</div>"
     },
     "metadata": {},
     "execution_count": 31
    }
   ],
   "source": [
    "data.drop(columns=['X1','X2','X3','X4','X5','X6'])"
   ]
  },
  {
   "cell_type": "code",
   "execution_count": null,
   "metadata": {},
   "outputs": [],
   "source": []
  },
  {
   "cell_type": "code",
   "execution_count": 33,
   "metadata": {},
   "outputs": [
    {
     "output_type": "stream",
     "name": "stdout",
     "text": [
      "<class 'pandas.core.frame.DataFrame'>\nRangeIndex: 4209 entries, 0 to 4208\nData columns (total 57 columns):\n #   Column  Non-Null Count  Dtype \n---  ------  --------------  ----- \n 0   X1      4209 non-null   object\n 1   X2      4209 non-null   object\n 2   X3      4209 non-null   object\n 3   X4      4209 non-null   object\n 4   X5      4209 non-null   object\n 5   X6      4209 non-null   object\n 6   X1_aa   4209 non-null   int32 \n 7   X1_s    4209 non-null   int32 \n 8   X1_b    4209 non-null   int32 \n 9   X1_l    4209 non-null   int32 \n 10  X1_v    4209 non-null   int32 \n 11  X1_r    4209 non-null   int32 \n 12  X1_i    4209 non-null   int32 \n 13  X1_a    4209 non-null   int32 \n 14  X1_c    4209 non-null   int32 \n 15  X1_o    4209 non-null   int32 \n 16  X2_as   4209 non-null   int32 \n 17  X2_ae   4209 non-null   int32 \n 18  X2_ai   4209 non-null   int32 \n 19  X2_m    4209 non-null   int32 \n 20  X2_ak   4209 non-null   int32 \n 21  X2_r    4209 non-null   int32 \n 22  X2_n    4209 non-null   int32 \n 23  X2_s    4209 non-null   int32 \n 24  X2_f    4209 non-null   int32 \n 25  X2_e    4209 non-null   int32 \n 26  X3_c    4209 non-null   int32 \n 27  X3_f    4209 non-null   int32 \n 28  X3_a    4209 non-null   int32 \n 29  X3_d    4209 non-null   int32 \n 30  X3_g    4209 non-null   int32 \n 31  X3_e    4209 non-null   int32 \n 32  X3_b    4209 non-null   int32 \n 33  X4_d    4209 non-null   int32 \n 34  X4_a    4209 non-null   int32 \n 35  X4_c    4209 non-null   int32 \n 36  X4_b    4209 non-null   int32 \n 37  X5_w    4209 non-null   int32 \n 38  X5_v    4209 non-null   int32 \n 39  X5_q    4209 non-null   int32 \n 40  X5_r    4209 non-null   int32 \n 41  X5_s    4209 non-null   int32 \n 42  X5_d    4209 non-null   int32 \n 43  X5_n    4209 non-null   int32 \n 44  X5_p    4209 non-null   int32 \n 45  X5_m    4209 non-null   int32 \n 46  X5_i    4209 non-null   int32 \n 47  X6_g    4209 non-null   int32 \n 48  X6_j    4209 non-null   int32 \n 49  X6_d    4209 non-null   int32 \n 50  X6_i    4209 non-null   int32 \n 51  X6_l    4209 non-null   int32 \n 52  X6_a    4209 non-null   int32 \n 53  X6_h    4209 non-null   int32 \n 54  X6_k    4209 non-null   int32 \n 55  X6_c    4209 non-null   int32 \n 56  X6_b    4209 non-null   int32 \ndtypes: int32(51), object(6)\nmemory usage: 1.0+ MB\n"
     ]
    }
   ],
   "source": [
    "data.info()"
   ]
  },
  {
   "cell_type": "code",
   "execution_count": null,
   "metadata": {},
   "outputs": [],
   "source": []
  },
  {
   "cell_type": "code",
   "execution_count": null,
   "metadata": {},
   "outputs": [],
   "source": []
  },
  {
   "cell_type": "code",
   "execution_count": null,
   "metadata": {},
   "outputs": [],
   "source": []
  }
 ]
}